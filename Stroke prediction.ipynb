{
  "cells": [
    {
      "cell_type": "markdown",
      "metadata": {
        "id": "0g2RQRSltgja"
      },
      "source": [
        "# Full DL Solution\n",
        "---\n",
        "### **Case Study:** Stroke Prediction\n",
        "\n",
        "**Objective:** The goal of this project is to walk you through a case study where you can apply the deep learning concepts that you learned about during the week. By the end of this project, you would have developed a solution that predicts if a person will have a stroke or not.\n"
      ]
    },
    {
      "cell_type": "markdown",
      "metadata": {
        "id": "WBCBbnkWMvzS"
      },
      "source": [
        "**Dataset Explanation:** We will be using the stroke dataset. Its features are:\n",
        "\n",
        "\n",
        "* **id:** unique identifier\n",
        "* **gender:** \"Male\", \"Female\" or \"Other\"\n",
        "* **age:** age of the patient\n",
        "* **hypertension:** 0 if the patient doesn't have hypertension, 1 if the patient has hypertension\n",
        "* **heart_disease:** 0 if the patient doesn't have any heart diseases, 1 if the patient has a heart disease\n",
        "* **ever_married:** \"No\" or \"Yes\"\n",
        "* **work_type:** \"children\", \"Govt_jov\", \"Never_worked\", \"Private\" or \"Self-employed\"\n",
        "* **Residence_type:** \"Rural\" or \"Urban\"\n",
        "* **avg_glucose_level:** average glucose level in blood\n",
        "* **bmi:** body mass index\n",
        "* **smoking_status:** \"formerly smoked\", \"never smoked\", \"smokes\" or \"Unknown\"*\n",
        "* **stroke:** 1 if the patient had a stroke or 0 if not\n"
      ]
    },
    {
      "cell_type": "markdown",
      "metadata": {
        "id": "gBvX5nCYt8cT"
      },
      "source": [
        "# Importing Libraries"
      ]
    },
    {
      "cell_type": "markdown",
      "metadata": {
        "id": "JaPfsfvXK2_0"
      },
      "source": [
        "We start by importing the libraries"
      ]
    },
    {
      "cell_type": "code",
      "execution_count": null,
      "metadata": {
        "id": "oK92M0m-ezbE"
      },
      "outputs": [],
      "source": [
        "import warnings\n",
        "warnings.filterwarnings('ignore')"
      ]
    },
    {
      "cell_type": "code",
      "execution_count": null,
      "metadata": {
        "colab": {
          "base_uri": "https://localhost:8080/"
        },
        "id": "mMQuUG7OtfrG",
        "outputId": "eeb3c2b7-04f2-40b4-a0db-d75d959a3552"
      },
      "outputs": [
        {
          "output_type": "stream",
          "name": "stdout",
          "text": [
            "Drive already mounted at /content/drive; to attempt to forcibly remount, call drive.mount(\"/content/drive\", force_remount=True).\n"
          ]
        }
      ],
      "source": [
        "import numpy as np\n",
        "import pandas as pd\n",
        "import matplotlib.pyplot as plt\n",
        "from google.colab import drive\n",
        "drive.mount(\"/content/drive\")\n",
        "\n"
      ]
    },
    {
      "cell_type": "markdown",
      "metadata": {
        "id": "0-RxAH5auFFy"
      },
      "source": [
        "# Loading the Dataset"
      ]
    },
    {
      "cell_type": "markdown",
      "metadata": {
        "id": "z_jj2t6zK6zy"
      },
      "source": [
        "We load the dataset from a csv file, and see its first rows"
      ]
    },
    {
      "cell_type": "code",
      "execution_count": null,
      "metadata": {
        "id": "UQVo1CAJt7s8"
      },
      "outputs": [],
      "source": [
        "df=pd.read_csv(\"/content/drive/MyDrive/LLM SDAIA bootcsmp/healthcare-dataset-stroke-data (1).csv\")"
      ]
    },
    {
      "cell_type": "markdown",
      "metadata": {
        "id": "r6gAyBGtubI7"
      },
      "source": [
        "# Exploratory Data Analysis"
      ]
    },
    {
      "cell_type": "markdown",
      "metadata": {
        "id": "XZ_93CvuLF3j"
      },
      "source": [
        "Now we start the exploratory data analysis."
      ]
    },
    {
      "cell_type": "markdown",
      "metadata": {
        "id": "2925yVCdud0a"
      },
      "source": [
        "### Shape of the data"
      ]
    },
    {
      "cell_type": "markdown",
      "metadata": {
        "id": "yZ0hWvVALJy4"
      },
      "source": [
        "First thing we need to know the shape of our data"
      ]
    },
    {
      "cell_type": "code",
      "execution_count": null,
      "metadata": {
        "colab": {
          "base_uri": "https://localhost:8080/",
          "height": 351
        },
        "id": "8pvWR3PKuQEy",
        "outputId": "0ba4f8d5-802a-4076-d720-06a8a4fd1675"
      },
      "outputs": [
        {
          "output_type": "stream",
          "name": "stdout",
          "text": [
            "1- The size of the data is: 61320\n",
            "3- Dataset shape: (5110, 12)\n",
            "4- The number of features we have is: 12\n",
            "5- The features we have are: Index(['id', 'gender', 'age', 'hypertension', 'heart_disease', 'ever_married',\n",
            "       'work_type', 'Residence_type', 'avg_glucose_level', 'bmi',\n",
            "       'smoking_status', 'stroke'],\n",
            "      dtype='object')\n",
            "The first five rows are:\n"
          ]
        },
        {
          "output_type": "execute_result",
          "data": {
            "text/plain": [
              "      id  gender   age  hypertension  heart_disease ever_married  \\\n",
              "0   9046    Male  67.0             0              1          Yes   \n",
              "1  51676  Female  61.0             0              0          Yes   \n",
              "2  31112    Male  80.0             0              1          Yes   \n",
              "3  60182  Female  49.0             0              0          Yes   \n",
              "4   1665  Female  79.0             1              0          Yes   \n",
              "\n",
              "       work_type Residence_type  avg_glucose_level   bmi   smoking_status  \\\n",
              "0        Private          Urban             228.69  36.6  formerly smoked   \n",
              "1  Self-employed          Rural             202.21   NaN     never smoked   \n",
              "2        Private          Rural             105.92  32.5     never smoked   \n",
              "3        Private          Urban             171.23  34.4           smokes   \n",
              "4  Self-employed          Rural             174.12  24.0     never smoked   \n",
              "\n",
              "   stroke  \n",
              "0       1  \n",
              "1       1  \n",
              "2       1  \n",
              "3       1  \n",
              "4       1  "
            ],
            "text/html": [
              "\n",
              "  <div id=\"df-5c020ae6-60db-4d13-aa1a-41b06d3bf6db\" class=\"colab-df-container\">\n",
              "    <div>\n",
              "<style scoped>\n",
              "    .dataframe tbody tr th:only-of-type {\n",
              "        vertical-align: middle;\n",
              "    }\n",
              "\n",
              "    .dataframe tbody tr th {\n",
              "        vertical-align: top;\n",
              "    }\n",
              "\n",
              "    .dataframe thead th {\n",
              "        text-align: right;\n",
              "    }\n",
              "</style>\n",
              "<table border=\"1\" class=\"dataframe\">\n",
              "  <thead>\n",
              "    <tr style=\"text-align: right;\">\n",
              "      <th></th>\n",
              "      <th>id</th>\n",
              "      <th>gender</th>\n",
              "      <th>age</th>\n",
              "      <th>hypertension</th>\n",
              "      <th>heart_disease</th>\n",
              "      <th>ever_married</th>\n",
              "      <th>work_type</th>\n",
              "      <th>Residence_type</th>\n",
              "      <th>avg_glucose_level</th>\n",
              "      <th>bmi</th>\n",
              "      <th>smoking_status</th>\n",
              "      <th>stroke</th>\n",
              "    </tr>\n",
              "  </thead>\n",
              "  <tbody>\n",
              "    <tr>\n",
              "      <th>0</th>\n",
              "      <td>9046</td>\n",
              "      <td>Male</td>\n",
              "      <td>67.0</td>\n",
              "      <td>0</td>\n",
              "      <td>1</td>\n",
              "      <td>Yes</td>\n",
              "      <td>Private</td>\n",
              "      <td>Urban</td>\n",
              "      <td>228.69</td>\n",
              "      <td>36.6</td>\n",
              "      <td>formerly smoked</td>\n",
              "      <td>1</td>\n",
              "    </tr>\n",
              "    <tr>\n",
              "      <th>1</th>\n",
              "      <td>51676</td>\n",
              "      <td>Female</td>\n",
              "      <td>61.0</td>\n",
              "      <td>0</td>\n",
              "      <td>0</td>\n",
              "      <td>Yes</td>\n",
              "      <td>Self-employed</td>\n",
              "      <td>Rural</td>\n",
              "      <td>202.21</td>\n",
              "      <td>NaN</td>\n",
              "      <td>never smoked</td>\n",
              "      <td>1</td>\n",
              "    </tr>\n",
              "    <tr>\n",
              "      <th>2</th>\n",
              "      <td>31112</td>\n",
              "      <td>Male</td>\n",
              "      <td>80.0</td>\n",
              "      <td>0</td>\n",
              "      <td>1</td>\n",
              "      <td>Yes</td>\n",
              "      <td>Private</td>\n",
              "      <td>Rural</td>\n",
              "      <td>105.92</td>\n",
              "      <td>32.5</td>\n",
              "      <td>never smoked</td>\n",
              "      <td>1</td>\n",
              "    </tr>\n",
              "    <tr>\n",
              "      <th>3</th>\n",
              "      <td>60182</td>\n",
              "      <td>Female</td>\n",
              "      <td>49.0</td>\n",
              "      <td>0</td>\n",
              "      <td>0</td>\n",
              "      <td>Yes</td>\n",
              "      <td>Private</td>\n",
              "      <td>Urban</td>\n",
              "      <td>171.23</td>\n",
              "      <td>34.4</td>\n",
              "      <td>smokes</td>\n",
              "      <td>1</td>\n",
              "    </tr>\n",
              "    <tr>\n",
              "      <th>4</th>\n",
              "      <td>1665</td>\n",
              "      <td>Female</td>\n",
              "      <td>79.0</td>\n",
              "      <td>1</td>\n",
              "      <td>0</td>\n",
              "      <td>Yes</td>\n",
              "      <td>Self-employed</td>\n",
              "      <td>Rural</td>\n",
              "      <td>174.12</td>\n",
              "      <td>24.0</td>\n",
              "      <td>never smoked</td>\n",
              "      <td>1</td>\n",
              "    </tr>\n",
              "  </tbody>\n",
              "</table>\n",
              "</div>\n",
              "    <div class=\"colab-df-buttons\">\n",
              "\n",
              "  <div class=\"colab-df-container\">\n",
              "    <button class=\"colab-df-convert\" onclick=\"convertToInteractive('df-5c020ae6-60db-4d13-aa1a-41b06d3bf6db')\"\n",
              "            title=\"Convert this dataframe to an interactive table.\"\n",
              "            style=\"display:none;\">\n",
              "\n",
              "  <svg xmlns=\"http://www.w3.org/2000/svg\" height=\"24px\" viewBox=\"0 -960 960 960\">\n",
              "    <path d=\"M120-120v-720h720v720H120Zm60-500h600v-160H180v160Zm220 220h160v-160H400v160Zm0 220h160v-160H400v160ZM180-400h160v-160H180v160Zm440 0h160v-160H620v160ZM180-180h160v-160H180v160Zm440 0h160v-160H620v160Z\"/>\n",
              "  </svg>\n",
              "    </button>\n",
              "\n",
              "  <style>\n",
              "    .colab-df-container {\n",
              "      display:flex;\n",
              "      gap: 12px;\n",
              "    }\n",
              "\n",
              "    .colab-df-convert {\n",
              "      background-color: #E8F0FE;\n",
              "      border: none;\n",
              "      border-radius: 50%;\n",
              "      cursor: pointer;\n",
              "      display: none;\n",
              "      fill: #1967D2;\n",
              "      height: 32px;\n",
              "      padding: 0 0 0 0;\n",
              "      width: 32px;\n",
              "    }\n",
              "\n",
              "    .colab-df-convert:hover {\n",
              "      background-color: #E2EBFA;\n",
              "      box-shadow: 0px 1px 2px rgba(60, 64, 67, 0.3), 0px 1px 3px 1px rgba(60, 64, 67, 0.15);\n",
              "      fill: #174EA6;\n",
              "    }\n",
              "\n",
              "    .colab-df-buttons div {\n",
              "      margin-bottom: 4px;\n",
              "    }\n",
              "\n",
              "    [theme=dark] .colab-df-convert {\n",
              "      background-color: #3B4455;\n",
              "      fill: #D2E3FC;\n",
              "    }\n",
              "\n",
              "    [theme=dark] .colab-df-convert:hover {\n",
              "      background-color: #434B5C;\n",
              "      box-shadow: 0px 1px 3px 1px rgba(0, 0, 0, 0.15);\n",
              "      filter: drop-shadow(0px 1px 2px rgba(0, 0, 0, 0.3));\n",
              "      fill: #FFFFFF;\n",
              "    }\n",
              "  </style>\n",
              "\n",
              "    <script>\n",
              "      const buttonEl =\n",
              "        document.querySelector('#df-5c020ae6-60db-4d13-aa1a-41b06d3bf6db button.colab-df-convert');\n",
              "      buttonEl.style.display =\n",
              "        google.colab.kernel.accessAllowed ? 'block' : 'none';\n",
              "\n",
              "      async function convertToInteractive(key) {\n",
              "        const element = document.querySelector('#df-5c020ae6-60db-4d13-aa1a-41b06d3bf6db');\n",
              "        const dataTable =\n",
              "          await google.colab.kernel.invokeFunction('convertToInteractive',\n",
              "                                                    [key], {});\n",
              "        if (!dataTable) return;\n",
              "\n",
              "        const docLinkHtml = 'Like what you see? Visit the ' +\n",
              "          '<a target=\"_blank\" href=https://colab.research.google.com/notebooks/data_table.ipynb>data table notebook</a>'\n",
              "          + ' to learn more about interactive tables.';\n",
              "        element.innerHTML = '';\n",
              "        dataTable['output_type'] = 'display_data';\n",
              "        await google.colab.output.renderOutput(dataTable, element);\n",
              "        const docLink = document.createElement('div');\n",
              "        docLink.innerHTML = docLinkHtml;\n",
              "        element.appendChild(docLink);\n",
              "      }\n",
              "    </script>\n",
              "  </div>\n",
              "\n",
              "\n",
              "<div id=\"df-49a01295-f07a-4e4f-8986-6a984c5c7e0a\">\n",
              "  <button class=\"colab-df-quickchart\" onclick=\"quickchart('df-49a01295-f07a-4e4f-8986-6a984c5c7e0a')\"\n",
              "            title=\"Suggest charts\"\n",
              "            style=\"display:none;\">\n",
              "\n",
              "<svg xmlns=\"http://www.w3.org/2000/svg\" height=\"24px\"viewBox=\"0 0 24 24\"\n",
              "     width=\"24px\">\n",
              "    <g>\n",
              "        <path d=\"M19 3H5c-1.1 0-2 .9-2 2v14c0 1.1.9 2 2 2h14c1.1 0 2-.9 2-2V5c0-1.1-.9-2-2-2zM9 17H7v-7h2v7zm4 0h-2V7h2v10zm4 0h-2v-4h2v4z\"/>\n",
              "    </g>\n",
              "</svg>\n",
              "  </button>\n",
              "\n",
              "<style>\n",
              "  .colab-df-quickchart {\n",
              "      --bg-color: #E8F0FE;\n",
              "      --fill-color: #1967D2;\n",
              "      --hover-bg-color: #E2EBFA;\n",
              "      --hover-fill-color: #174EA6;\n",
              "      --disabled-fill-color: #AAA;\n",
              "      --disabled-bg-color: #DDD;\n",
              "  }\n",
              "\n",
              "  [theme=dark] .colab-df-quickchart {\n",
              "      --bg-color: #3B4455;\n",
              "      --fill-color: #D2E3FC;\n",
              "      --hover-bg-color: #434B5C;\n",
              "      --hover-fill-color: #FFFFFF;\n",
              "      --disabled-bg-color: #3B4455;\n",
              "      --disabled-fill-color: #666;\n",
              "  }\n",
              "\n",
              "  .colab-df-quickchart {\n",
              "    background-color: var(--bg-color);\n",
              "    border: none;\n",
              "    border-radius: 50%;\n",
              "    cursor: pointer;\n",
              "    display: none;\n",
              "    fill: var(--fill-color);\n",
              "    height: 32px;\n",
              "    padding: 0;\n",
              "    width: 32px;\n",
              "  }\n",
              "\n",
              "  .colab-df-quickchart:hover {\n",
              "    background-color: var(--hover-bg-color);\n",
              "    box-shadow: 0 1px 2px rgba(60, 64, 67, 0.3), 0 1px 3px 1px rgba(60, 64, 67, 0.15);\n",
              "    fill: var(--button-hover-fill-color);\n",
              "  }\n",
              "\n",
              "  .colab-df-quickchart-complete:disabled,\n",
              "  .colab-df-quickchart-complete:disabled:hover {\n",
              "    background-color: var(--disabled-bg-color);\n",
              "    fill: var(--disabled-fill-color);\n",
              "    box-shadow: none;\n",
              "  }\n",
              "\n",
              "  .colab-df-spinner {\n",
              "    border: 2px solid var(--fill-color);\n",
              "    border-color: transparent;\n",
              "    border-bottom-color: var(--fill-color);\n",
              "    animation:\n",
              "      spin 1s steps(1) infinite;\n",
              "  }\n",
              "\n",
              "  @keyframes spin {\n",
              "    0% {\n",
              "      border-color: transparent;\n",
              "      border-bottom-color: var(--fill-color);\n",
              "      border-left-color: var(--fill-color);\n",
              "    }\n",
              "    20% {\n",
              "      border-color: transparent;\n",
              "      border-left-color: var(--fill-color);\n",
              "      border-top-color: var(--fill-color);\n",
              "    }\n",
              "    30% {\n",
              "      border-color: transparent;\n",
              "      border-left-color: var(--fill-color);\n",
              "      border-top-color: var(--fill-color);\n",
              "      border-right-color: var(--fill-color);\n",
              "    }\n",
              "    40% {\n",
              "      border-color: transparent;\n",
              "      border-right-color: var(--fill-color);\n",
              "      border-top-color: var(--fill-color);\n",
              "    }\n",
              "    60% {\n",
              "      border-color: transparent;\n",
              "      border-right-color: var(--fill-color);\n",
              "    }\n",
              "    80% {\n",
              "      border-color: transparent;\n",
              "      border-right-color: var(--fill-color);\n",
              "      border-bottom-color: var(--fill-color);\n",
              "    }\n",
              "    90% {\n",
              "      border-color: transparent;\n",
              "      border-bottom-color: var(--fill-color);\n",
              "    }\n",
              "  }\n",
              "</style>\n",
              "\n",
              "  <script>\n",
              "    async function quickchart(key) {\n",
              "      const quickchartButtonEl =\n",
              "        document.querySelector('#' + key + ' button');\n",
              "      quickchartButtonEl.disabled = true;  // To prevent multiple clicks.\n",
              "      quickchartButtonEl.classList.add('colab-df-spinner');\n",
              "      try {\n",
              "        const charts = await google.colab.kernel.invokeFunction(\n",
              "            'suggestCharts', [key], {});\n",
              "      } catch (error) {\n",
              "        console.error('Error during call to suggestCharts:', error);\n",
              "      }\n",
              "      quickchartButtonEl.classList.remove('colab-df-spinner');\n",
              "      quickchartButtonEl.classList.add('colab-df-quickchart-complete');\n",
              "    }\n",
              "    (() => {\n",
              "      let quickchartButtonEl =\n",
              "        document.querySelector('#df-49a01295-f07a-4e4f-8986-6a984c5c7e0a button');\n",
              "      quickchartButtonEl.style.display =\n",
              "        google.colab.kernel.accessAllowed ? 'block' : 'none';\n",
              "    })();\n",
              "  </script>\n",
              "</div>\n",
              "\n",
              "    </div>\n",
              "  </div>\n"
            ]
          },
          "metadata": {},
          "execution_count": 621
        }
      ],
      "source": [
        "print(\"1- The size of the data is:\", df.size)\n",
        "print(\"3- Dataset shape:\", df.shape)\n",
        "print(\"4- The number of features we have is:\", df.columns.size)\n",
        "print(\"5- The features we have are:\", df.columns)\n",
        "\n",
        "print(\"The first five rows are:\")\n",
        "df.head(5)"
      ]
    },
    {
      "cell_type": "markdown",
      "metadata": {
        "id": "yUy4oI5xukRr"
      },
      "source": [
        "### Types of different Columns"
      ]
    },
    {
      "cell_type": "markdown",
      "metadata": {
        "id": "G1q10ievLTTs"
      },
      "source": [
        "**Question 2:** Check the type of each feature."
      ]
    },
    {
      "cell_type": "code",
      "execution_count": null,
      "metadata": {
        "colab": {
          "base_uri": "https://localhost:8080/"
        },
        "id": "_8snoohouhUP",
        "outputId": "76dff700-942d-42eb-8710-36f2e7c79aa1"
      },
      "outputs": [
        {
          "output_type": "stream",
          "name": "stdout",
          "text": [
            "<class 'pandas.core.frame.DataFrame'>\n",
            "RangeIndex: 5110 entries, 0 to 5109\n",
            "Data columns (total 12 columns):\n",
            " #   Column             Non-Null Count  Dtype  \n",
            "---  ------             --------------  -----  \n",
            " 0   id                 5110 non-null   int64  \n",
            " 1   gender             5110 non-null   object \n",
            " 2   age                5110 non-null   float64\n",
            " 3   hypertension       5110 non-null   int64  \n",
            " 4   heart_disease      5110 non-null   int64  \n",
            " 5   ever_married       5110 non-null   object \n",
            " 6   work_type          5110 non-null   object \n",
            " 7   Residence_type     5110 non-null   object \n",
            " 8   avg_glucose_level  5110 non-null   float64\n",
            " 9   bmi                4909 non-null   float64\n",
            " 10  smoking_status     5110 non-null   object \n",
            " 11  stroke             5110 non-null   int64  \n",
            "dtypes: float64(3), int64(4), object(5)\n",
            "memory usage: 479.2+ KB\n"
          ]
        }
      ],
      "source": [
        "\n",
        "df.info()\n"
      ]
    },
    {
      "cell_type": "markdown",
      "metadata": {
        "id": "eMXR6FFs5Q20"
      },
      "source": [
        "Here, I realized that the BMI column includes null values, and the following columns have an object data type:\n",
        "\n",
        "* gender\n",
        "* work_type\n",
        "* ever_married\n",
        "* smoking_status\n",
        "* Residence_type\n",
        "\n",
        "Therefore, we need to handle these columns.\n",
        "\n",
        "\n",
        "\n"
      ]
    },
    {
      "cell_type": "markdown",
      "metadata": {
        "id": "nkrEh6RYygms"
      },
      "source": [
        "### Dealing with categorical variables"
      ]
    },
    {
      "cell_type": "markdown",
      "metadata": {
        "id": "v_kBYl7ItLGt"
      },
      "source": [
        "**Question 3:** Use the .value_counts() functions to walk through the categorical variables that we have to see the categories and the counts of each of them."
      ]
    },
    {
      "cell_type": "code",
      "execution_count": null,
      "metadata": {
        "colab": {
          "base_uri": "https://localhost:8080/"
        },
        "id": "DlSfSQ35ykgc",
        "outputId": "764303db-7ae5-4381-dd4f-0677504a5f33"
      },
      "outputs": [
        {
          "output_type": "execute_result",
          "data": {
            "text/plain": [
              "never smoked       1892\n",
              "Unknown            1544\n",
              "formerly smoked     885\n",
              "smokes              789\n",
              "Name: smoking_status, dtype: int64"
            ]
          },
          "metadata": {},
          "execution_count": 625
        }
      ],
      "source": [
        "smoking_types = df['smoking_status'].value_counts()\n",
        "smoking_types"
      ]
    },
    {
      "cell_type": "code",
      "execution_count": null,
      "metadata": {
        "id": "Yg0xlLNUy7AF",
        "colab": {
          "base_uri": "https://localhost:8080/"
        },
        "outputId": "a4883f7c-db54-45ae-f079-2a3f47fbdef5"
      },
      "outputs": [
        {
          "output_type": "execute_result",
          "data": {
            "text/plain": [
              "Urban    2596\n",
              "Rural    2514\n",
              "Name: Residence_type, dtype: int64"
            ]
          },
          "metadata": {},
          "execution_count": 626
        }
      ],
      "source": [
        "residence_types = df['Residence_type'].value_counts()\n",
        "residence_types"
      ]
    },
    {
      "cell_type": "code",
      "execution_count": null,
      "metadata": {
        "id": "T72r_mkrzF9V",
        "colab": {
          "base_uri": "https://localhost:8080/"
        },
        "outputId": "3e02aec6-7750-4171-de7c-9221f134b605"
      },
      "outputs": [
        {
          "output_type": "execute_result",
          "data": {
            "text/plain": [
              "Private          2925\n",
              "Self-employed     819\n",
              "children          687\n",
              "Govt_job          657\n",
              "Never_worked       22\n",
              "Name: work_type, dtype: int64"
            ]
          },
          "metadata": {},
          "execution_count": 628
        }
      ],
      "source": [
        "work_types =df['work_type'].value_counts()\n",
        "work_types"
      ]
    },
    {
      "cell_type": "code",
      "execution_count": null,
      "metadata": {
        "id": "Z0kpR57LzQE9",
        "colab": {
          "base_uri": "https://localhost:8080/"
        },
        "outputId": "d47b75f7-cda0-4596-8352-667f5382b8ce"
      },
      "outputs": [
        {
          "output_type": "execute_result",
          "data": {
            "text/plain": [
              "Yes    3353\n",
              "No     1757\n",
              "Name: ever_married, dtype: int64"
            ]
          },
          "metadata": {},
          "execution_count": 629
        }
      ],
      "source": [
        "married_types = df['ever_married'].value_counts()\n",
        "married_types"
      ]
    },
    {
      "cell_type": "code",
      "execution_count": null,
      "metadata": {
        "id": "fQIoAs8y3igG",
        "colab": {
          "base_uri": "https://localhost:8080/"
        },
        "outputId": "61e70a2d-a74f-418e-d9fd-ecdc02cb9683"
      },
      "outputs": [
        {
          "output_type": "execute_result",
          "data": {
            "text/plain": [
              "0    4612\n",
              "1     498\n",
              "Name: hypertension, dtype: int64"
            ]
          },
          "metadata": {},
          "execution_count": 630
        }
      ],
      "source": [
        "hypertension =df['hypertension'].value_counts()\n",
        "hypertension"
      ]
    },
    {
      "cell_type": "code",
      "execution_count": null,
      "metadata": {
        "id": "xEhNH46j3p3Y",
        "colab": {
          "base_uri": "https://localhost:8080/"
        },
        "outputId": "d00b44f6-1d40-4de3-da3a-b310ecdc69ea"
      },
      "outputs": [
        {
          "output_type": "execute_result",
          "data": {
            "text/plain": [
              "0    4834\n",
              "1     276\n",
              "Name: heart_disease, dtype: int64"
            ]
          },
          "metadata": {},
          "execution_count": 631
        }
      ],
      "source": [
        "heart_disease=df['heart_disease'].value_counts()\n",
        "heart_disease"
      ]
    },
    {
      "cell_type": "code",
      "execution_count": null,
      "metadata": {
        "id": "8cI7uJvA3Njv",
        "colab": {
          "base_uri": "https://localhost:8080/"
        },
        "outputId": "a1d8e49f-689c-42e3-9254-e1ad8586df1f"
      },
      "outputs": [
        {
          "output_type": "execute_result",
          "data": {
            "text/plain": [
              "0    4861\n",
              "1     249\n",
              "Name: stroke, dtype: int64"
            ]
          },
          "metadata": {},
          "execution_count": 632
        }
      ],
      "source": [
        "stroke=df['stroke'].value_counts()\n",
        "stroke"
      ]
    },
    {
      "cell_type": "markdown",
      "metadata": {
        "id": "OcIYHwHuIKBr"
      },
      "source": [
        "\n",
        "---\n",
        "\n",
        "We are training the model to predict the possibility of a stroke. However, there is a significant imbalance between the \"0\" and \"1\" classes in the stroke variable. The number of \"0\" is higher than the number \"1\" by more than 4000. Due to this severe class imbalance, the model may struggle to effectively learn and recognize stroke.\n",
        "\n",
        "\n",
        "\n"
      ]
    },
    {
      "cell_type": "markdown",
      "metadata": {
        "id": "_jFIiKPvllld"
      },
      "source": [
        "# Preprocessing"
      ]
    },
    {
      "cell_type": "markdown",
      "metadata": {
        "id": "JsQQj-wVlkjS"
      },
      "source": [
        "### Dealing with Nulls"
      ]
    },
    {
      "cell_type": "markdown",
      "metadata": {
        "id": "wdlRc672lgI4"
      },
      "source": [
        "**Question 4:** The bmi column contains nulls. Fill it with the appropriate measure."
      ]
    },
    {
      "cell_type": "code",
      "execution_count": null,
      "metadata": {
        "id": "7UDrnGK6lYiE"
      },
      "outputs": [],
      "source": [
        "max_bmi = df['bmi'].max()\n",
        "df['bmi'].fillna(max_bmi, inplace=True)\n"
      ]
    },
    {
      "cell_type": "code",
      "execution_count": null,
      "metadata": {
        "id": "-Xw08u-iGEbP",
        "colab": {
          "base_uri": "https://localhost:8080/"
        },
        "outputId": "5a78eb56-084d-4f2e-b17e-c685564c1482"
      },
      "outputs": [
        {
          "output_type": "execute_result",
          "data": {
            "text/plain": [
              "id                   0\n",
              "gender               0\n",
              "age                  0\n",
              "hypertension         0\n",
              "heart_disease        0\n",
              "ever_married         0\n",
              "work_type            0\n",
              "Residence_type       0\n",
              "avg_glucose_level    0\n",
              "bmi                  0\n",
              "smoking_status       0\n",
              "stroke               0\n",
              "dtype: int64"
            ]
          },
          "metadata": {},
          "execution_count": 634
        }
      ],
      "source": [
        "df.isnull().sum()"
      ]
    },
    {
      "cell_type": "markdown",
      "metadata": {
        "id": "21da4C_Bzd-u"
      },
      "source": [
        "#### Encoding Categorical Features"
      ]
    },
    {
      "cell_type": "markdown",
      "metadata": {
        "id": "UaNk4gWCLqe4"
      },
      "source": [
        "Encode those categorical variables to be able to use them to train your DL model."
      ]
    },
    {
      "cell_type": "code",
      "execution_count": null,
      "metadata": {
        "id": "6nJtOvxdzi_G"
      },
      "outputs": [],
      "source": [
        "from sklearn import preprocessing\n",
        "\n",
        "encoder = preprocessing.LabelEncoder()\n",
        "\n",
        "df['smoking_status'] = encoder.fit_transform(df['smoking_status'])\n",
        "df['Residence_type'] = encoder.fit_transform(df['Residence_type'])\n",
        "df['work_type'] = encoder.fit_transform(df['work_type'])\n",
        "df['ever_married'] = encoder.fit_transform(df['ever_married'])\n",
        "df['gender'] = encoder.fit_transform(df['gender'])"
      ]
    },
    {
      "cell_type": "markdown",
      "metadata": {
        "id": "d1GOfAgt4M-Q"
      },
      "source": [
        "### Normalizing Features"
      ]
    },
    {
      "cell_type": "code",
      "execution_count": null,
      "metadata": {
        "id": "BtI_XA-m33Bx",
        "colab": {
          "base_uri": "https://localhost:8080/"
        },
        "outputId": "1cfa0709-38f7-4733-ca3b-0b17e2cbb338"
      },
      "outputs": [
        {
          "output_type": "stream",
          "name": "stdout",
          "text": [
            "                id       gender          age  hypertension  heart_disease  \\\n",
            "count  5110.000000  5110.000000  5110.000000   5110.000000    5110.000000   \n",
            "mean      0.500656     0.207143     0.527154      0.097456       0.054012   \n",
            "std       0.290125     0.246522     0.275764      0.296607       0.226063   \n",
            "min       0.000919     0.000000     0.000976      0.000000       0.000000   \n",
            "25%       0.243231     0.000000     0.304878      0.000000       0.000000   \n",
            "50%       0.506334     0.000000     0.548780      0.000000       0.000000   \n",
            "75%       0.749685     0.500000     0.743902      0.000000       0.000000   \n",
            "max       1.000000     1.000000     1.000000      1.000000       1.000000   \n",
            "\n",
            "       ever_married    work_type  Residence_type  avg_glucose_level  \\\n",
            "count   5110.000000  5110.000000     5110.000000        5110.000000   \n",
            "mean       0.656164     0.541928        0.508023           0.390622   \n",
            "std        0.475034     0.272573        0.499985           0.166643   \n",
            "min        0.000000     0.000000        0.000000           0.202841   \n",
            "25%        0.000000     0.500000        0.000000           0.284261   \n",
            "50%        1.000000     0.500000        1.000000           0.338136   \n",
            "75%        1.000000     0.750000        1.000000           0.419850   \n",
            "max        1.000000     1.000000        1.000000           1.000000   \n",
            "\n",
            "               bmi  smoking_status       stroke  \n",
            "count  5110.000000     5110.000000  5110.000000  \n",
            "mean      0.323727        0.458969     0.048728  \n",
            "std       0.157958        0.357178     0.215320  \n",
            "min       0.105533        0.000000     0.000000  \n",
            "25%       0.243852        0.000000     0.000000  \n",
            "50%       0.290984        0.666667     0.000000  \n",
            "75%       0.348361        0.666667     0.000000  \n",
            "max       1.000000        1.000000     1.000000  \n"
          ]
        }
      ],
      "source": [
        "df=df.divide(df.max(axis=0))\n",
        "\n",
        "print(df.describe())"
      ]
    },
    {
      "cell_type": "markdown",
      "metadata": {
        "id": "KICuY0lg5nUD"
      },
      "source": [
        "### Removing Unnecessary Features"
      ]
    },
    {
      "cell_type": "code",
      "execution_count": null,
      "metadata": {
        "id": "8AHNqYbh5sE7"
      },
      "outputs": [],
      "source": [
        "data = df.drop(\"id\", axis=1)"
      ]
    },
    {
      "cell_type": "markdown",
      "metadata": {
        "id": "5k-KoLpH5C9R"
      },
      "source": [
        "# Building the DL Model"
      ]
    },
    {
      "cell_type": "markdown",
      "metadata": {
        "id": "uI2VtlafMBeN"
      },
      "source": [
        "**Question 8:** Now it's time to build the actual model, and observe a summary of it."
      ]
    },
    {
      "cell_type": "code",
      "execution_count": null,
      "metadata": {
        "id": "AZvKqqT65E0W",
        "colab": {
          "base_uri": "https://localhost:8080/"
        },
        "outputId": "db7c72e6-7519-4f59-b182-0bb96852abc6"
      },
      "outputs": [
        {
          "output_type": "stream",
          "name": "stdout",
          "text": [
            "Model: \"sequential_38\"\n",
            "_________________________________________________________________\n",
            " Layer (type)                Output Shape              Param #   \n",
            "=================================================================\n",
            " dense_226 (Dense)           (None, 32)                384       \n",
            "                                                                 \n",
            " dense_227 (Dense)           (None, 16)                528       \n",
            "                                                                 \n",
            " dense_228 (Dense)           (None, 8)                 136       \n",
            "                                                                 \n",
            " dense_229 (Dense)           (None, 4)                 36        \n",
            "                                                                 \n",
            " dense_230 (Dense)           (None, 2)                 10        \n",
            "                                                                 \n",
            " dense_231 (Dense)           (None, 1)                 3         \n",
            "                                                                 \n",
            "=================================================================\n",
            "Total params: 1097 (4.29 KB)\n",
            "Trainable params: 1097 (4.29 KB)\n",
            "Non-trainable params: 0 (0.00 Byte)\n",
            "_________________________________________________________________\n"
          ]
        }
      ],
      "source": [
        "import tensorflow as tf\n",
        "from tensorflow.keras.models import Sequential\n",
        "from tensorflow.keras.layers import Dense\n",
        "\n",
        "# Define the model\n",
        "model = Sequential()\n",
        "\n",
        "# Add layers to the model\n",
        "model.add(Dense(32, input_dim = 11, activation = 'relu'))\n",
        "model.add(Dense(16, activation = 'relu'))\n",
        "model.add(Dense(8, activation = 'relu'))\n",
        "model.add(Dense(4, activation = 'relu'))\n",
        "model.add(Dense(2, activation = 'relu'))\n",
        "model.add(Dense(1, activation = \"sigmoid\"))\n",
        "\n",
        "model.summary()"
      ]
    },
    {
      "cell_type": "markdown",
      "metadata": {
        "id": "AD57fE2n7QP4"
      },
      "source": [
        "### Compiling the model"
      ]
    },
    {
      "cell_type": "markdown",
      "metadata": {
        "id": "seGmh1x1-qH9"
      },
      "source": [
        "Here we want to measure the accuracy as well as the precision and recall to know better about the performance of our model."
      ]
    },
    {
      "cell_type": "code",
      "execution_count": null,
      "metadata": {
        "id": "woSsSTEm61_U"
      },
      "outputs": [],
      "source": [
        "model.compile(optimizer='adam', loss='binary_crossentropy', metrics=['accuracy', 'Precision', 'Recall'])"
      ]
    },
    {
      "cell_type": "markdown",
      "metadata": {
        "id": "U5zevRH57X8v"
      },
      "source": [
        "### Fitting the model"
      ]
    },
    {
      "cell_type": "markdown",
      "metadata": {
        "id": "UhaEU26KMUWK"
      },
      "source": [
        "Split the data and train the model\n",
        "\n",
        "We take the first columns as features and the last column as a label, then we split our dataset between training (70%) and testing (30%)."
      ]
    },
    {
      "cell_type": "code",
      "execution_count": null,
      "metadata": {
        "id": "rsVOVfn47MLn",
        "colab": {
          "base_uri": "https://localhost:8080/"
        },
        "outputId": "76158dac-f465-4755-bfef-064c3398e4de"
      },
      "outputs": [
        {
          "output_type": "stream",
          "name": "stdout",
          "text": [
            "<class 'pandas.core.frame.DataFrame'>\n",
            "RangeIndex: 5110 entries, 0 to 5109\n",
            "Data columns (total 12 columns):\n",
            " #   Column             Non-Null Count  Dtype  \n",
            "---  ------             --------------  -----  \n",
            " 0   id                 5110 non-null   float64\n",
            " 1   gender             5110 non-null   float64\n",
            " 2   age                5110 non-null   float64\n",
            " 3   hypertension       5110 non-null   float64\n",
            " 4   heart_disease      5110 non-null   float64\n",
            " 5   ever_married       5110 non-null   float64\n",
            " 6   work_type          5110 non-null   float64\n",
            " 7   Residence_type     5110 non-null   float64\n",
            " 8   avg_glucose_level  5110 non-null   float64\n",
            " 9   bmi                5110 non-null   float64\n",
            " 10  smoking_status     5110 non-null   float64\n",
            " 11  stroke             5110 non-null   float64\n",
            "dtypes: float64(12)\n",
            "memory usage: 479.2 KB\n"
          ]
        }
      ],
      "source": [
        "import pandas as pd\n",
        "from sklearn.model_selection import train_test_split\n",
        "\n",
        "# Assuming your data is stored in a DataFrame called 'data'\n",
        "x = df.drop('stroke', axis=1)  # Input features, excluding the 'stroke' column\n",
        "y = df['stroke']  # Target variable\n",
        "\n",
        "# Split the data into train and validation sets\n",
        "x_train, x_val, y_train, y_val = train_test_split(x, y, test_size=0.2, stratify=y)\n",
        "\n",
        "df.info()"
      ]
    },
    {
      "cell_type": "markdown",
      "metadata": {
        "id": "LVvxbyPyezb3"
      },
      "source": [
        "we fit the model on 80% training data, and validate on the rest. Later we will do the final test on the test data. The training happens for 15 epochs."
      ]
    },
    {
      "cell_type": "code",
      "execution_count": null,
      "metadata": {
        "id": "KrlvFubpqBeS",
        "colab": {
          "base_uri": "https://localhost:8080/"
        },
        "outputId": "4634ea90-5a4a-4eaa-f8ad-cd41a50f8e6d"
      },
      "outputs": [
        {
          "output_type": "stream",
          "name": "stdout",
          "text": [
            "Epoch 1/20\n",
            "128/128 [==============================] - 2s 5ms/step - loss: 0.2465 - accuracy: 0.9513 - precision: 0.0000e+00 - recall: 0.0000e+00 - val_loss: 0.2040 - val_accuracy: 0.9511 - val_precision: 0.0000e+00 - val_recall: 0.0000e+00\n",
            "Epoch 2/20\n",
            "128/128 [==============================] - 0s 3ms/step - loss: 0.1900 - accuracy: 0.9513 - precision: 0.0000e+00 - recall: 0.0000e+00 - val_loss: 0.1899 - val_accuracy: 0.9511 - val_precision: 0.0000e+00 - val_recall: 0.0000e+00\n",
            "Epoch 3/20\n",
            "128/128 [==============================] - 0s 3ms/step - loss: 0.1784 - accuracy: 0.9513 - precision: 0.0000e+00 - recall: 0.0000e+00 - val_loss: 0.1799 - val_accuracy: 0.9511 - val_precision: 0.0000e+00 - val_recall: 0.0000e+00\n",
            "Epoch 4/20\n",
            "128/128 [==============================] - 0s 3ms/step - loss: 0.1704 - accuracy: 0.9513 - precision: 0.0000e+00 - recall: 0.0000e+00 - val_loss: 0.1748 - val_accuracy: 0.9511 - val_precision: 0.0000e+00 - val_recall: 0.0000e+00\n",
            "Epoch 5/20\n",
            "128/128 [==============================] - 0s 3ms/step - loss: 0.1636 - accuracy: 0.9513 - precision: 0.0000e+00 - recall: 0.0000e+00 - val_loss: 0.1673 - val_accuracy: 0.9511 - val_precision: 0.0000e+00 - val_recall: 0.0000e+00\n",
            "Epoch 6/20\n",
            "128/128 [==============================] - 0s 3ms/step - loss: 0.1574 - accuracy: 0.9513 - precision: 0.0000e+00 - recall: 0.0000e+00 - val_loss: 0.1647 - val_accuracy: 0.9511 - val_precision: 0.0000e+00 - val_recall: 0.0000e+00\n",
            "Epoch 7/20\n",
            "128/128 [==============================] - 0s 3ms/step - loss: 0.1567 - accuracy: 0.9513 - precision: 0.0000e+00 - recall: 0.0000e+00 - val_loss: 0.1625 - val_accuracy: 0.9511 - val_precision: 0.0000e+00 - val_recall: 0.0000e+00\n",
            "Epoch 8/20\n",
            "128/128 [==============================] - 0s 3ms/step - loss: 0.1526 - accuracy: 0.9513 - precision: 0.0000e+00 - recall: 0.0000e+00 - val_loss: 0.1642 - val_accuracy: 0.9511 - val_precision: 0.0000e+00 - val_recall: 0.0000e+00\n",
            "Epoch 9/20\n",
            "128/128 [==============================] - 0s 3ms/step - loss: 0.1514 - accuracy: 0.9513 - precision: 0.0000e+00 - recall: 0.0000e+00 - val_loss: 0.1625 - val_accuracy: 0.9511 - val_precision: 0.0000e+00 - val_recall: 0.0000e+00\n",
            "Epoch 10/20\n",
            "128/128 [==============================] - 0s 3ms/step - loss: 0.1504 - accuracy: 0.9513 - precision: 0.0000e+00 - recall: 0.0000e+00 - val_loss: 0.1627 - val_accuracy: 0.9511 - val_precision: 0.0000e+00 - val_recall: 0.0000e+00\n",
            "Epoch 11/20\n",
            "128/128 [==============================] - 0s 3ms/step - loss: 0.1498 - accuracy: 0.9513 - precision: 0.0000e+00 - recall: 0.0000e+00 - val_loss: 0.1606 - val_accuracy: 0.9511 - val_precision: 0.0000e+00 - val_recall: 0.0000e+00\n",
            "Epoch 12/20\n",
            "128/128 [==============================] - 0s 3ms/step - loss: 0.1484 - accuracy: 0.9513 - precision: 0.0000e+00 - recall: 0.0000e+00 - val_loss: 0.1641 - val_accuracy: 0.9511 - val_precision: 0.0000e+00 - val_recall: 0.0000e+00\n",
            "Epoch 13/20\n",
            "128/128 [==============================] - 0s 3ms/step - loss: 0.1464 - accuracy: 0.9513 - precision: 0.0000e+00 - recall: 0.0000e+00 - val_loss: 0.1608 - val_accuracy: 0.9511 - val_precision: 0.0000e+00 - val_recall: 0.0000e+00\n",
            "Epoch 14/20\n",
            "128/128 [==============================] - 0s 3ms/step - loss: 0.1455 - accuracy: 0.9513 - precision: 0.0000e+00 - recall: 0.0000e+00 - val_loss: 0.1621 - val_accuracy: 0.9511 - val_precision: 0.0000e+00 - val_recall: 0.0000e+00\n",
            "Epoch 15/20\n",
            "128/128 [==============================] - 0s 3ms/step - loss: 0.1459 - accuracy: 0.9513 - precision: 0.0000e+00 - recall: 0.0000e+00 - val_loss: 0.1626 - val_accuracy: 0.9511 - val_precision: 0.0000e+00 - val_recall: 0.0000e+00\n",
            "Epoch 16/20\n",
            "128/128 [==============================] - 0s 3ms/step - loss: 0.1438 - accuracy: 0.9513 - precision: 0.0000e+00 - recall: 0.0000e+00 - val_loss: 0.1619 - val_accuracy: 0.9511 - val_precision: 0.0000e+00 - val_recall: 0.0000e+00\n",
            "Epoch 17/20\n",
            "128/128 [==============================] - 0s 3ms/step - loss: 0.1429 - accuracy: 0.9513 - precision: 0.0000e+00 - recall: 0.0000e+00 - val_loss: 0.1623 - val_accuracy: 0.9511 - val_precision: 0.0000e+00 - val_recall: 0.0000e+00\n",
            "Epoch 18/20\n",
            "128/128 [==============================] - 0s 3ms/step - loss: 0.1425 - accuracy: 0.9513 - precision: 0.0000e+00 - recall: 0.0000e+00 - val_loss: 0.1610 - val_accuracy: 0.9511 - val_precision: 0.0000e+00 - val_recall: 0.0000e+00\n",
            "Epoch 19/20\n",
            "128/128 [==============================] - 1s 4ms/step - loss: 0.1426 - accuracy: 0.9513 - precision: 0.0000e+00 - recall: 0.0000e+00 - val_loss: 0.1624 - val_accuracy: 0.9511 - val_precision: 0.0000e+00 - val_recall: 0.0000e+00\n",
            "Epoch 20/20\n",
            "128/128 [==============================] - 1s 5ms/step - loss: 0.1406 - accuracy: 0.9513 - precision: 0.5000 - recall: 0.0050 - val_loss: 0.1645 - val_accuracy: 0.9521 - val_precision: 1.0000 - val_recall: 0.0200\n"
          ]
        }
      ],
      "source": [
        "\n",
        "history = model.fit(x_train, y_train, validation_data=(x_val, y_val), epochs=20)\n"
      ]
    },
    {
      "cell_type": "markdown",
      "metadata": {
        "id": "Op2Frp44uSiX"
      },
      "source": [
        "Suggest ways to improve your model"
      ]
    },
    {
      "cell_type": "markdown",
      "metadata": {
        "id": "IImSYWQGBSz6"
      },
      "source": [
        "### Checking For Data Imbalance"
      ]
    },
    {
      "cell_type": "markdown",
      "metadata": {
        "id": "ZHxCONODMkNN"
      },
      "source": [
        "We check for imbalance because we have a poor recall and precision.\n"
      ]
    },
    {
      "cell_type": "code",
      "execution_count": null,
      "metadata": {
        "id": "1bF6G8c58SOE",
        "colab": {
          "base_uri": "https://localhost:8080/",
          "height": 448
        },
        "outputId": "c2b0ecd3-b86c-468b-8370-43a7c46cec55"
      },
      "outputs": [
        {
          "output_type": "execute_result",
          "data": {
            "text/plain": [
              "<Axes: >"
            ]
          },
          "metadata": {},
          "execution_count": 643
        },
        {
          "output_type": "display_data",
          "data": {
            "text/plain": [
              "<Figure size 640x480 with 1 Axes>"
            ],
            "image/png": "[encoded data removed]"
          },
          "metadata": {}
        }
      ],
      "source": [
        "data['stroke'].hist()"
      ]
    },
    {
      "cell_type": "markdown",
      "metadata": {
        "id": "gzZBB5GMCOld"
      },
      "source": [
        "We have a huge imbalance in the data, this is why we fix it with oversamppling and undersampling.\n",
        "\n",
        "We will oversample this time using the SMOTE() function instead of random oversampling, and this is because SMOTE will generate new data based on the data that we have, so we avoid overfitting."
      ]
    },
    {
      "cell_type": "code",
      "execution_count": null,
      "metadata": {
        "id": "US4xON4LBX8I",
        "colab": {
          "base_uri": "https://localhost:8080/",
          "height": 502
        },
        "outputId": "d9495175-f0e4-4748-c628-2611db80e47c"
      },
      "outputs": [
        {
          "output_type": "execute_result",
          "data": {
            "text/plain": [
              "(array([4861.,    0.,    0.,    0.,    0.,    0.,    0.,    0.,    0.,\n",
              "        4861.]),\n",
              " array([0. , 0.1, 0.2, 0.3, 0.4, 0.5, 0.6, 0.7, 0.8, 0.9, 1. ]),\n",
              " <BarContainer object of 10 artists>)"
            ]
          },
          "metadata": {},
          "execution_count": 644
        },
        {
          "output_type": "display_data",
          "data": {
            "text/plain": [
              "<Figure size 640x480 with 1 Axes>"
            ],
            "image/png": "[encoded data removed]"
          },
          "metadata": {}
        }
      ],
      "source": [
        "from imblearn.over_sampling import SMOTE\n",
        "\n",
        "over = SMOTE()\n",
        "x_new, y_new =over.fit_resample(x, y)\n",
        "\n",
        "\n",
        "plt.hist([y_new])"
      ]
    },
    {
      "cell_type": "markdown",
      "metadata": {
        "id": "voqUo00lAqCZ"
      },
      "source": [
        "# Handel unpalnce colum"
      ]
    },
    {
      "cell_type": "markdown",
      "metadata": {
        "id": "OmfeUhi1ezb9"
      },
      "source": [
        "Split the balanced dataset between 90% (training and validation), 10% testing\n",
        "Then divide the 90% between 80% training and 20% validation"
      ]
    },
    {
      "cell_type": "code",
      "execution_count": null,
      "metadata": {
        "id": "IxnYFoPZezb-"
      },
      "outputs": [],
      "source": [
        "from sklearn.model_selection import train_test_split\n",
        "\n",
        "\n",
        "x_train_val, x_test, y_train_val, y_test = train_test_split(x_new, y_new, test_size=0.2, stratify=y_new)\n",
        "x_train, x_val, y_train, y_val = train_test_split(x_train_val, y_train_val, test_size=0.2, stratify=y_train_val)"
      ]
    },
    {
      "cell_type": "markdown",
      "metadata": {
        "id": "dgyxF74oezcA"
      },
      "source": [
        "Now we will train the model on the balanced data, and tune it on the validation set"
      ]
    },
    {
      "cell_type": "code",
      "execution_count": null,
      "metadata": {
        "id": "26YTispLEm9N",
        "colab": {
          "base_uri": "https://localhost:8080/"
        },
        "outputId": "c2db971f-62cf-49ae-9006-cd619fff48b1"
      },
      "outputs": [
        {
          "output_type": "stream",
          "name": "stdout",
          "text": [
            "Epoch 1/20\n",
            "195/195 [==============================] - 1s 5ms/step - loss: 0.2765 - accuracy: 0.8902 - precision: 0.8529 - recall: 0.9431 - val_loss: 0.3395 - val_accuracy: 0.8612 - val_precision: 0.8394 - val_recall: 0.8933\n",
            "Epoch 2/20\n",
            "195/195 [==============================] - 1s 5ms/step - loss: 0.2793 - accuracy: 0.8881 - precision: 0.8494 - recall: 0.9434 - val_loss: 0.3330 - val_accuracy: 0.8548 - val_precision: 0.8333 - val_recall: 0.8869\n",
            "Epoch 3/20\n",
            "195/195 [==============================] - 1s 5ms/step - loss: 0.2763 - accuracy: 0.8912 - precision: 0.8544 - recall: 0.9431 - val_loss: 0.3077 - val_accuracy: 0.8792 - val_precision: 0.8406 - val_recall: 0.9357\n",
            "Epoch 4/20\n",
            "195/195 [==============================] - 1s 4ms/step - loss: 0.2709 - accuracy: 0.8952 - precision: 0.8573 - recall: 0.9482 - val_loss: 0.3122 - val_accuracy: 0.8734 - val_precision: 0.8328 - val_recall: 0.9344\n",
            "Epoch 5/20\n",
            "195/195 [==============================] - 1s 4ms/step - loss: 0.2640 - accuracy: 0.8958 - precision: 0.8602 - recall: 0.9453 - val_loss: 0.3075 - val_accuracy: 0.8824 - val_precision: 0.8439 - val_recall: 0.9383\n",
            "Epoch 6/20\n",
            "195/195 [==============================] - 1s 5ms/step - loss: 0.2654 - accuracy: 0.8954 - precision: 0.8590 - recall: 0.9460 - val_loss: 0.3166 - val_accuracy: 0.8785 - val_precision: 0.8212 - val_recall: 0.9679\n",
            "Epoch 7/20\n",
            "195/195 [==============================] - 1s 3ms/step - loss: 0.2627 - accuracy: 0.8981 - precision: 0.8607 - recall: 0.9498 - val_loss: 0.3132 - val_accuracy: 0.8843 - val_precision: 0.8461 - val_recall: 0.9396\n",
            "Epoch 8/20\n",
            "195/195 [==============================] - 1s 3ms/step - loss: 0.2590 - accuracy: 0.8997 - precision: 0.8618 - recall: 0.9521 - val_loss: 0.3063 - val_accuracy: 0.8766 - val_precision: 0.8505 - val_recall: 0.9139\n",
            "Epoch 9/20\n",
            "195/195 [==============================] - 1s 3ms/step - loss: 0.2492 - accuracy: 0.9066 - precision: 0.8716 - recall: 0.9537 - val_loss: 0.3074 - val_accuracy: 0.8811 - val_precision: 0.8404 - val_recall: 0.9409\n",
            "Epoch 10/20\n",
            "195/195 [==============================] - 1s 4ms/step - loss: 0.2543 - accuracy: 0.9013 - precision: 0.8638 - recall: 0.9527 - val_loss: 0.3273 - val_accuracy: 0.8631 - val_precision: 0.8509 - val_recall: 0.8805\n",
            "Epoch 11/20\n",
            "195/195 [==============================] - 1s 3ms/step - loss: 0.2491 - accuracy: 0.9052 - precision: 0.8691 - recall: 0.9540 - val_loss: 0.3448 - val_accuracy: 0.8554 - val_precision: 0.8452 - val_recall: 0.8702\n",
            "Epoch 12/20\n",
            "195/195 [==============================] - 1s 3ms/step - loss: 0.2456 - accuracy: 0.9077 - precision: 0.8727 - recall: 0.9547 - val_loss: 0.3347 - val_accuracy: 0.8740 - val_precision: 0.8096 - val_recall: 0.9781\n",
            "Epoch 13/20\n",
            "195/195 [==============================] - 1s 4ms/step - loss: 0.2429 - accuracy: 0.9055 - precision: 0.8715 - recall: 0.9511 - val_loss: 0.3078 - val_accuracy: 0.8785 - val_precision: 0.8298 - val_recall: 0.9524\n",
            "Epoch 14/20\n",
            "195/195 [==============================] - 1s 3ms/step - loss: 0.2413 - accuracy: 0.9085 - precision: 0.8731 - recall: 0.9559 - val_loss: 0.3073 - val_accuracy: 0.8760 - val_precision: 0.8486 - val_recall: 0.9152\n",
            "Epoch 15/20\n",
            "195/195 [==============================] - 1s 3ms/step - loss: 0.2393 - accuracy: 0.9092 - precision: 0.8733 - recall: 0.9572 - val_loss: 0.3045 - val_accuracy: 0.8760 - val_precision: 0.8462 - val_recall: 0.9190\n",
            "Epoch 16/20\n",
            "195/195 [==============================] - 1s 3ms/step - loss: 0.2331 - accuracy: 0.9130 - precision: 0.8768 - recall: 0.9611 - val_loss: 0.3207 - val_accuracy: 0.8728 - val_precision: 0.8469 - val_recall: 0.9100\n",
            "Epoch 17/20\n",
            "195/195 [==============================] - 1s 3ms/step - loss: 0.2366 - accuracy: 0.9113 - precision: 0.8760 - recall: 0.9582 - val_loss: 0.3096 - val_accuracy: 0.8882 - val_precision: 0.8432 - val_recall: 0.9537\n",
            "Epoch 18/20\n",
            "195/195 [==============================] - 1s 3ms/step - loss: 0.2354 - accuracy: 0.9119 - precision: 0.8763 - recall: 0.9592 - val_loss: 0.2996 - val_accuracy: 0.8882 - val_precision: 0.8326 - val_recall: 0.9717\n",
            "Epoch 19/20\n",
            "195/195 [==============================] - 1s 4ms/step - loss: 0.2275 - accuracy: 0.9138 - precision: 0.8783 - recall: 0.9608 - val_loss: 0.2992 - val_accuracy: 0.8901 - val_precision: 0.8575 - val_recall: 0.9357\n",
            "Epoch 20/20\n",
            "195/195 [==============================] - 1s 3ms/step - loss: 0.2282 - accuracy: 0.9163 - precision: 0.8826 - recall: 0.9601 - val_loss: 0.3054 - val_accuracy: 0.8888 - val_precision: 0.8555 - val_recall: 0.9357\n"
          ]
        }
      ],
      "source": [
        "history = model.fit(x_train, y_train, validation_data=(x_val, y_val), epochs=20)"
      ]
    },
    {
      "cell_type": "markdown",
      "metadata": {
        "id": "wAhUAu5JezcC"
      },
      "source": [
        "Evaluate your model on the test set that you kept aside at the beginning."
      ]
    },
    {
      "cell_type": "code",
      "execution_count": null,
      "metadata": {
        "id": "utTyIgJLezcD",
        "colab": {
          "base_uri": "https://localhost:8080/"
        },
        "outputId": "545c22c0-b83d-40c2-cae6-89c6e98ece01"
      },
      "outputs": [
        {
          "output_type": "stream",
          "name": "stdout",
          "text": [
            "61/61 [==============================] - 0s 2ms/step - loss: 0.2937 - accuracy: 0.8859 - precision: 0.8519 - recall: 0.9342\n"
          ]
        },
        {
          "output_type": "execute_result",
          "data": {
            "text/plain": [
              "[0.29373037815093994,\n",
              " 0.8858611583709717,\n",
              " 0.8519212603569031,\n",
              " 0.9342240691184998]"
            ]
          },
          "metadata": {},
          "execution_count": 648
        }
      ],
      "source": [
        "model.evaluate(x_test, y_test)"
      ]
    },
    {
      "cell_type": "markdown",
      "metadata": {
        "id": "hhfhpIaWGtz2"
      },
      "source": [
        "We see that the performance gets better when our data became balanced.\n",
        "Now we will try improving our model with other techniques that we learned through the week."
      ]
    },
    {
      "cell_type": "markdown",
      "metadata": {
        "id": "ngJVLbRKG7U_"
      },
      "source": [
        "### Model Design"
      ]
    },
    {
      "cell_type": "markdown",
      "metadata": {
        "id": "sMdcXspCHxIo"
      },
      "source": [
        "We will introduce batch normalization after each layer and then train the model"
      ]
    },
    {
      "cell_type": "code",
      "execution_count": null,
      "metadata": {
        "id": "yK78-g-hHrmq",
        "colab": {
          "base_uri": "https://localhost:8080/"
        },
        "outputId": "98a06324-cb2e-4152-8bf1-7e61963174ff"
      },
      "outputs": [
        {
          "output_type": "stream",
          "name": "stdout",
          "text": [
            "Model: \"sequential_39\"\n",
            "_________________________________________________________________\n",
            " Layer (type)                Output Shape              Param #   \n",
            "=================================================================\n",
            " dense_232 (Dense)           (None, 32)                384       \n",
            "                                                                 \n",
            " batch_normalization_99 (Ba  (None, 32)                128       \n",
            " tchNormalization)                                               \n",
            "                                                                 \n",
            " dense_233 (Dense)           (None, 16)                528       \n",
            "                                                                 \n",
            " batch_normalization_100 (B  (None, 16)                64        \n",
            " atchNormalization)                                              \n",
            "                                                                 \n",
            " dense_234 (Dense)           (None, 8)                 136       \n",
            "                                                                 \n",
            " batch_normalization_101 (B  (None, 8)                 32        \n",
            " atchNormalization)                                              \n",
            "                                                                 \n",
            " dense_235 (Dense)           (None, 4)                 36        \n",
            "                                                                 \n",
            " batch_normalization_102 (B  (None, 4)                 16        \n",
            " atchNormalization)                                              \n",
            "                                                                 \n",
            " dense_236 (Dense)           (None, 2)                 10        \n",
            "                                                                 \n",
            " batch_normalization_103 (B  (None, 2)                 8         \n",
            " atchNormalization)                                              \n",
            "                                                                 \n",
            " dense_237 (Dense)           (None, 1)                 3         \n",
            "                                                                 \n",
            "=================================================================\n",
            "Total params: 1345 (5.25 KB)\n",
            "Trainable params: 1221 (4.77 KB)\n",
            "Non-trainable params: 124 (496.00 Byte)\n",
            "_________________________________________________________________\n"
          ]
        }
      ],
      "source": [
        "\n",
        "from tensorflow.keras.layers import BatchNormalization\n",
        "from tensorflow.keras.models import Sequential\n",
        "from tensorflow.keras.layers import Dense\n",
        "\n",
        "model = Sequential()\n",
        "\n",
        "model.add(Dense(32, input_dim=11, activation='relu'))\n",
        "model.add(BatchNormalization())\n",
        "model.add(Dense(16, activation='relu'))\n",
        "model.add(BatchNormalization())\n",
        "model.add(Dense(8, activation='relu'))\n",
        "model.add(BatchNormalization())\n",
        "model.add(Dense(4, activation='relu'))\n",
        "model.add(BatchNormalization())\n",
        "model.add(Dense(2, activation='relu'))\n",
        "model.add(BatchNormalization())\n",
        "model.add(Dense(1, activation='sigmoid'))\n",
        "\n",
        "model.summary()\n",
        "\n"
      ]
    },
    {
      "cell_type": "code",
      "execution_count": null,
      "metadata": {
        "id": "REDrQVWLJLs5",
        "colab": {
          "base_uri": "https://localhost:8080/"
        },
        "outputId": "546b5ba4-03ec-4103-f43a-0ff5471e94c8"
      },
      "outputs": [
        {
          "output_type": "stream",
          "name": "stdout",
          "text": [
            "Epoch 1/20\n",
            "219/219 [==============================] - 5s 6ms/step - loss: 0.6449 - accuracy: 0.6721 - precision: 0.7088 - recall: 0.5843 - val_loss: 0.6392 - val_accuracy: 0.6829 - val_precision: 0.6264 - val_recall: 0.9063\n",
            "Epoch 2/20\n",
            "219/219 [==============================] - 1s 4ms/step - loss: 0.5126 - accuracy: 0.7558 - precision: 0.7612 - recall: 0.7457 - val_loss: 0.5319 - val_accuracy: 0.7583 - val_precision: 0.6912 - val_recall: 0.9337\n",
            "Epoch 3/20\n",
            "219/219 [==============================] - 1s 4ms/step - loss: 0.4743 - accuracy: 0.7828 - precision: 0.7641 - recall: 0.8183 - val_loss: 0.4935 - val_accuracy: 0.7794 - val_precision: 0.7143 - val_recall: 0.9314\n",
            "Epoch 4/20\n",
            "219/219 [==============================] - 1s 4ms/step - loss: 0.4482 - accuracy: 0.7957 - precision: 0.7588 - recall: 0.8671 - val_loss: 0.4693 - val_accuracy: 0.7823 - val_precision: 0.7270 - val_recall: 0.9040\n",
            "Epoch 5/20\n",
            "219/219 [==============================] - 1s 4ms/step - loss: 0.4322 - accuracy: 0.8038 - precision: 0.7572 - recall: 0.8946 - val_loss: 0.4532 - val_accuracy: 0.7857 - val_precision: 0.7205 - val_recall: 0.9337\n",
            "Epoch 6/20\n",
            "219/219 [==============================] - 1s 4ms/step - loss: 0.4204 - accuracy: 0.8118 - precision: 0.7684 - recall: 0.8929 - val_loss: 0.4353 - val_accuracy: 0.8029 - val_precision: 0.7463 - val_recall: 0.9177\n",
            "Epoch 7/20\n",
            "219/219 [==============================] - 1s 4ms/step - loss: 0.4151 - accuracy: 0.8090 - precision: 0.7696 - recall: 0.8820 - val_loss: 0.4245 - val_accuracy: 0.8000 - val_precision: 0.7488 - val_recall: 0.9029\n",
            "Epoch 8/20\n",
            "219/219 [==============================] - 1s 4ms/step - loss: 0.4080 - accuracy: 0.8147 - precision: 0.7710 - recall: 0.8954 - val_loss: 0.4186 - val_accuracy: 0.8057 - val_precision: 0.7461 - val_recall: 0.9269\n",
            "Epoch 9/20\n",
            "219/219 [==============================] - 1s 4ms/step - loss: 0.4090 - accuracy: 0.8105 - precision: 0.7701 - recall: 0.8854 - val_loss: 0.4230 - val_accuracy: 0.7994 - val_precision: 0.7391 - val_recall: 0.9257\n",
            "Epoch 10/20\n",
            "219/219 [==============================] - 1s 4ms/step - loss: 0.3920 - accuracy: 0.8205 - precision: 0.7773 - recall: 0.8986 - val_loss: 0.3985 - val_accuracy: 0.8109 - val_precision: 0.7822 - val_recall: 0.8617\n",
            "Epoch 11/20\n",
            "219/219 [==============================] - 1s 4ms/step - loss: 0.3813 - accuracy: 0.8217 - precision: 0.7802 - recall: 0.8957 - val_loss: 0.4037 - val_accuracy: 0.8074 - val_precision: 0.7528 - val_recall: 0.9154\n",
            "Epoch 12/20\n",
            "219/219 [==============================] - 1s 6ms/step - loss: 0.3766 - accuracy: 0.8313 - precision: 0.7948 - recall: 0.8931 - val_loss: 0.3934 - val_accuracy: 0.8120 - val_precision: 0.7698 - val_recall: 0.8903\n",
            "Epoch 13/20\n",
            "219/219 [==============================] - 1s 6ms/step - loss: 0.3827 - accuracy: 0.8280 - precision: 0.7895 - recall: 0.8946 - val_loss: 0.4026 - val_accuracy: 0.8166 - val_precision: 0.7473 - val_recall: 0.9566\n",
            "Epoch 14/20\n",
            "219/219 [==============================] - 1s 6ms/step - loss: 0.3666 - accuracy: 0.8317 - precision: 0.7942 - recall: 0.8954 - val_loss: 0.4051 - val_accuracy: 0.8137 - val_precision: 0.7489 - val_recall: 0.9440\n",
            "Epoch 15/20\n",
            "219/219 [==============================] - 1s 6ms/step - loss: 0.3682 - accuracy: 0.8335 - precision: 0.7947 - recall: 0.8994 - val_loss: 0.3802 - val_accuracy: 0.8291 - val_precision: 0.7915 - val_recall: 0.8937\n",
            "Epoch 16/20\n",
            "219/219 [==============================] - 1s 4ms/step - loss: 0.3681 - accuracy: 0.8290 - precision: 0.7949 - recall: 0.8869 - val_loss: 0.3834 - val_accuracy: 0.8217 - val_precision: 0.7694 - val_recall: 0.9189\n",
            "Epoch 17/20\n",
            "219/219 [==============================] - 1s 4ms/step - loss: 0.3533 - accuracy: 0.8378 - precision: 0.8030 - recall: 0.8954 - val_loss: 0.3796 - val_accuracy: 0.8320 - val_precision: 0.7697 - val_recall: 0.9474\n",
            "Epoch 18/20\n",
            "219/219 [==============================] - 1s 4ms/step - loss: 0.3649 - accuracy: 0.8378 - precision: 0.8028 - recall: 0.8957 - val_loss: 0.3720 - val_accuracy: 0.8400 - val_precision: 0.7825 - val_recall: 0.9417\n",
            "Epoch 19/20\n",
            "219/219 [==============================] - 1s 4ms/step - loss: 0.3487 - accuracy: 0.8431 - precision: 0.8056 - recall: 0.9046 - val_loss: 0.3550 - val_accuracy: 0.8440 - val_precision: 0.7934 - val_recall: 0.9303\n",
            "Epoch 20/20\n",
            "219/219 [==============================] - 1s 4ms/step - loss: 0.3469 - accuracy: 0.8481 - precision: 0.8141 - recall: 0.9023 - val_loss: 0.3741 - val_accuracy: 0.8303 - val_precision: 0.7949 - val_recall: 0.8903\n"
          ]
        }
      ],
      "source": [
        "model.compile(optimizer='adam', loss='binary_crossentropy', metrics=['accuracy', 'Precision', 'Recall'])\n",
        "\n",
        "history2 = model.fit(x_train, y_train, validation_data=(x_val, y_val), epochs=20)"
      ]
    },
    {
      "cell_type": "code",
      "source": [
        "model.evaluate(x_test, y_test)"
      ],
      "metadata": {
        "colab": {
          "base_uri": "https://localhost:8080/"
        },
        "id": "hzmZGOrHlZtF",
        "outputId": "c3feff2c-4da5-4c7c-cc88-135adf9639d3"
      },
      "execution_count": null,
      "outputs": [
        {
          "output_type": "stream",
          "name": "stdout",
          "text": [
            "31/31 [==============================] - 0s 2ms/step - loss: 0.3127 - accuracy: 0.8582 - precision: 0.8175 - recall: 0.9218\n"
          ]
        },
        {
          "output_type": "execute_result",
          "data": {
            "text/plain": [
              "[0.31272271275520325,\n",
              " 0.8581706285476685,\n",
              " 0.8175182342529297,\n",
              " 0.9218106865882874]"
            ]
          },
          "metadata": {},
          "execution_count": 605
        }
      ]
    },
    {
      "cell_type": "code",
      "source": [
        "import matplotlib.pyplot as plt\n",
        "\n",
        "# Training and validation loss values\n",
        "train_loss = history2.history['loss']\n",
        "val_loss = history2.history['val_loss']\n",
        "\n",
        "# Number of epochs\n",
        "epochs = range(1, len(train_loss) + 1)\n",
        "\n",
        "# Plotting the loss\n",
        "plt.plot(epochs, train_loss, 'b', label='Training Loss')\n",
        "plt.plot(epochs, val_loss, 'r', label='Validation Loss')\n",
        "plt.title('Training and Validation Loss')\n",
        "plt.xlabel('Epochs')\n",
        "plt.ylabel('Loss')\n",
        "plt.legend()\n",
        "plt.show()"
      ],
      "metadata": {
        "colab": {
          "base_uri": "https://localhost:8080/",
          "height": 472
        },
        "id": "EZwN5yTqmLHt",
        "outputId": "1cab5bb7-a330-4999-c1e0-354e321aa027"
      },
      "execution_count": null,
      "outputs": [
        {
          "output_type": "display_data",
          "data": {
            "text/plain": [
              "<Figure size 640x480 with 1 Axes>"
            ],
            "image/png": "[encoded data removed]"
          },
          "metadata": {}
        }
      ]
    },
    {
      "cell_type": "markdown",
      "metadata": {
        "id": "hhkSEThVKEdm"
      },
      "source": [
        "We see that we are achieving better metrics with batch normalization."
      ]
    }
  ],
  "metadata": {
    "colab": {
      "provenance": []
    },
    "kernelspec": {
      "display_name": "Python 3.10.5 64-bit",
      "language": "python",
      "name": "python3"
    },
    "language_info": {
      "codemirror_mode": {
        "name": "ipython",
        "version": 3
      },
      "file_extension": ".py",
      "mimetype": "text/x-python",
      "name": "python",
      "nbconvert_exporter": "python",
      "pygments_lexer": "ipython3",
      "version": "3.10.5"
    },
    "vscode": {
      "interpreter": {
        "hash": "8c3d4d9970fc5c09c50d9318a9c7fbf4d0159e4b28833276f5678ee22bded273"
      }
    }
  },
  "nbformat": 4,
  "nbformat_minor": 0
}